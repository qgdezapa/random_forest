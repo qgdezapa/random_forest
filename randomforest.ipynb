{
 "cells": [
  {
   "cell_type": "code",
   "execution_count": 61,
   "id": "10ddaa59",
   "metadata": {},
   "outputs": [],
   "source": [
    "import pandas as pd\n",
    "import numpy as np\n",
    "import pickle"
   ]
  },
  {
   "cell_type": "code",
   "execution_count": 44,
   "id": "fc8a7135",
   "metadata": {},
   "outputs": [],
   "source": [
    "dataset = pd.read_csv(\"out.csv\")"
   ]
  },
  {
   "cell_type": "code",
   "execution_count": 45,
   "id": "d0a6e07a",
   "metadata": {},
   "outputs": [
    {
     "data": {
      "text/plain": "      Realistic  Investigate  Artistic  Social  Enterprising  Conventional  \\\n0             1            0         0       1             1             0   \n1             1            1         0       1             0             0   \n2             1            1         0       0             0             1   \n3             1            0         1       0             1             0   \n4             1            1         1       0             0             0   \n...         ...          ...       ...     ...           ...           ...   \n1015          0            1         1       1             0             0   \n1016          0            1         1       1             0             0   \n1017          1            0         1       1             0             0   \n1018          1            1         0       0             1             0   \n1019          1            0         1       0             0             1   \n\n      Naturalist  Spatial  Linguistic  Intrapersonal  Bodily-Kinesthetic  \\\n0              0        1           1              1                   0   \n1              1        0           0              1                   1   \n2              1        1           0              0                   0   \n3              0        0           1              1                   0   \n4              1        1           1              0                   0   \n...          ...      ...         ...            ...                 ...   \n1015           0        0           0              1                   1   \n1016           0        1           0              0                   1   \n1017           1        0           0              1                   0   \n1018           0        1           1              0                   0   \n1019           0        0           1              1                   0   \n\n      Musical  Logical-mathematical  Interpersonal  Math  English  Science  \\\n0           0                     0              0    94       86      100   \n1           0                     0              0    81       98       90   \n2           1                     0              0    83       90       80   \n3           0                     0              1   100       96       84   \n4           0                     0              0    85       93       97   \n...       ...                   ...            ...   ...      ...      ...   \n1015        1                     0              0    97       94      100   \n1016        1                     0              0    84       85       85   \n1017        0                     0              1    86       95       92   \n1018        0                     1              0    98       97       84   \n1019        1                     0              0    95       83       92   \n\n      Social Science  Class  \n0                100      1  \n1                 93      2  \n2                 97      0  \n3                 85      1  \n4                 95      2  \n...              ...    ...  \n1015              93      2  \n1016              84      1  \n1017              96      2  \n1018              91      0  \n1019              91      2  \n\n[1020 rows x 19 columns]",
      "text/html": "<div>\n<style scoped>\n    .dataframe tbody tr th:only-of-type {\n        vertical-align: middle;\n    }\n\n    .dataframe tbody tr th {\n        vertical-align: top;\n    }\n\n    .dataframe thead th {\n        text-align: right;\n    }\n</style>\n<table border=\"1\" class=\"dataframe\">\n  <thead>\n    <tr style=\"text-align: right;\">\n      <th></th>\n      <th>Realistic</th>\n      <th>Investigate</th>\n      <th>Artistic</th>\n      <th>Social</th>\n      <th>Enterprising</th>\n      <th>Conventional</th>\n      <th>Naturalist</th>\n      <th>Spatial</th>\n      <th>Linguistic</th>\n      <th>Intrapersonal</th>\n      <th>Bodily-Kinesthetic</th>\n      <th>Musical</th>\n      <th>Logical-mathematical</th>\n      <th>Interpersonal</th>\n      <th>Math</th>\n      <th>English</th>\n      <th>Science</th>\n      <th>Social Science</th>\n      <th>Class</th>\n    </tr>\n  </thead>\n  <tbody>\n    <tr>\n      <th>0</th>\n      <td>1</td>\n      <td>0</td>\n      <td>0</td>\n      <td>1</td>\n      <td>1</td>\n      <td>0</td>\n      <td>0</td>\n      <td>1</td>\n      <td>1</td>\n      <td>1</td>\n      <td>0</td>\n      <td>0</td>\n      <td>0</td>\n      <td>0</td>\n      <td>94</td>\n      <td>86</td>\n      <td>100</td>\n      <td>100</td>\n      <td>1</td>\n    </tr>\n    <tr>\n      <th>1</th>\n      <td>1</td>\n      <td>1</td>\n      <td>0</td>\n      <td>1</td>\n      <td>0</td>\n      <td>0</td>\n      <td>1</td>\n      <td>0</td>\n      <td>0</td>\n      <td>1</td>\n      <td>1</td>\n      <td>0</td>\n      <td>0</td>\n      <td>0</td>\n      <td>81</td>\n      <td>98</td>\n      <td>90</td>\n      <td>93</td>\n      <td>2</td>\n    </tr>\n    <tr>\n      <th>2</th>\n      <td>1</td>\n      <td>1</td>\n      <td>0</td>\n      <td>0</td>\n      <td>0</td>\n      <td>1</td>\n      <td>1</td>\n      <td>1</td>\n      <td>0</td>\n      <td>0</td>\n      <td>0</td>\n      <td>1</td>\n      <td>0</td>\n      <td>0</td>\n      <td>83</td>\n      <td>90</td>\n      <td>80</td>\n      <td>97</td>\n      <td>0</td>\n    </tr>\n    <tr>\n      <th>3</th>\n      <td>1</td>\n      <td>0</td>\n      <td>1</td>\n      <td>0</td>\n      <td>1</td>\n      <td>0</td>\n      <td>0</td>\n      <td>0</td>\n      <td>1</td>\n      <td>1</td>\n      <td>0</td>\n      <td>0</td>\n      <td>0</td>\n      <td>1</td>\n      <td>100</td>\n      <td>96</td>\n      <td>84</td>\n      <td>85</td>\n      <td>1</td>\n    </tr>\n    <tr>\n      <th>4</th>\n      <td>1</td>\n      <td>1</td>\n      <td>1</td>\n      <td>0</td>\n      <td>0</td>\n      <td>0</td>\n      <td>1</td>\n      <td>1</td>\n      <td>1</td>\n      <td>0</td>\n      <td>0</td>\n      <td>0</td>\n      <td>0</td>\n      <td>0</td>\n      <td>85</td>\n      <td>93</td>\n      <td>97</td>\n      <td>95</td>\n      <td>2</td>\n    </tr>\n    <tr>\n      <th>...</th>\n      <td>...</td>\n      <td>...</td>\n      <td>...</td>\n      <td>...</td>\n      <td>...</td>\n      <td>...</td>\n      <td>...</td>\n      <td>...</td>\n      <td>...</td>\n      <td>...</td>\n      <td>...</td>\n      <td>...</td>\n      <td>...</td>\n      <td>...</td>\n      <td>...</td>\n      <td>...</td>\n      <td>...</td>\n      <td>...</td>\n      <td>...</td>\n    </tr>\n    <tr>\n      <th>1015</th>\n      <td>0</td>\n      <td>1</td>\n      <td>1</td>\n      <td>1</td>\n      <td>0</td>\n      <td>0</td>\n      <td>0</td>\n      <td>0</td>\n      <td>0</td>\n      <td>1</td>\n      <td>1</td>\n      <td>1</td>\n      <td>0</td>\n      <td>0</td>\n      <td>97</td>\n      <td>94</td>\n      <td>100</td>\n      <td>93</td>\n      <td>2</td>\n    </tr>\n    <tr>\n      <th>1016</th>\n      <td>0</td>\n      <td>1</td>\n      <td>1</td>\n      <td>1</td>\n      <td>0</td>\n      <td>0</td>\n      <td>0</td>\n      <td>1</td>\n      <td>0</td>\n      <td>0</td>\n      <td>1</td>\n      <td>1</td>\n      <td>0</td>\n      <td>0</td>\n      <td>84</td>\n      <td>85</td>\n      <td>85</td>\n      <td>84</td>\n      <td>1</td>\n    </tr>\n    <tr>\n      <th>1017</th>\n      <td>1</td>\n      <td>0</td>\n      <td>1</td>\n      <td>1</td>\n      <td>0</td>\n      <td>0</td>\n      <td>1</td>\n      <td>0</td>\n      <td>0</td>\n      <td>1</td>\n      <td>0</td>\n      <td>0</td>\n      <td>0</td>\n      <td>1</td>\n      <td>86</td>\n      <td>95</td>\n      <td>92</td>\n      <td>96</td>\n      <td>2</td>\n    </tr>\n    <tr>\n      <th>1018</th>\n      <td>1</td>\n      <td>1</td>\n      <td>0</td>\n      <td>0</td>\n      <td>1</td>\n      <td>0</td>\n      <td>0</td>\n      <td>1</td>\n      <td>1</td>\n      <td>0</td>\n      <td>0</td>\n      <td>0</td>\n      <td>1</td>\n      <td>0</td>\n      <td>98</td>\n      <td>97</td>\n      <td>84</td>\n      <td>91</td>\n      <td>0</td>\n    </tr>\n    <tr>\n      <th>1019</th>\n      <td>1</td>\n      <td>0</td>\n      <td>1</td>\n      <td>0</td>\n      <td>0</td>\n      <td>1</td>\n      <td>0</td>\n      <td>0</td>\n      <td>1</td>\n      <td>1</td>\n      <td>0</td>\n      <td>1</td>\n      <td>0</td>\n      <td>0</td>\n      <td>95</td>\n      <td>83</td>\n      <td>92</td>\n      <td>91</td>\n      <td>2</td>\n    </tr>\n  </tbody>\n</table>\n<p>1020 rows × 19 columns</p>\n</div>"
     },
     "execution_count": 45,
     "metadata": {},
     "output_type": "execute_result"
    }
   ],
   "source": [
    "dataset"
   ]
  },
  {
   "cell_type": "code",
   "execution_count": 46,
   "id": "7e9f68af",
   "metadata": {},
   "outputs": [],
   "source": [
    "X = dataset.iloc[:, 0:18].values\n",
    "y = dataset.iloc[:, 18].values"
   ]
  },
  {
   "cell_type": "code",
   "execution_count": 47,
   "id": "40f93c5e",
   "metadata": {},
   "outputs": [
    {
     "data": {
      "text/plain": "(1020, 18)"
     },
     "execution_count": 47,
     "metadata": {},
     "output_type": "execute_result"
    }
   ],
   "source": [
    "X.shape"
   ]
  },
  {
   "cell_type": "code",
   "execution_count": 66,
   "id": "bf81e531",
   "metadata": {},
   "outputs": [],
   "source": [
    "from sklearn.model_selection import train_test_split\n",
    "\n",
    "X_train, X_test, y_train, y_test = train_test_split(X, y, test_size=0.2, random_state=0)"
   ]
  },
  {
   "cell_type": "code",
   "execution_count": 75,
   "id": "0bbef2ec",
   "metadata": {},
   "outputs": [],
   "source": [
    "from sklearn.preprocessing import StandardScaler\n",
    "\n",
    "sc = StandardScaler()\n",
    "X_train = sc.fit_transform(X_train)\n",
    "X_test = sc.transform(X_test)\n",
    "\n",
    "X_train\n",
    "\n",
    "\n",
    "\n"
   ]
  },
  {
   "cell_type": "code",
   "execution_count": 76,
   "id": "301a942e",
   "metadata": {},
   "outputs": [],
   "source": [
    "from sklearn.ensemble import RandomForestClassifier\n",
    "\n",
    "regressor = RandomForestClassifier(n_estimators=20, random_state=0)\n",
    "regressor.fit(X_train, y_train)\n",
    "y_pred = regressor.predict(X_test)"
   ]
  },
  {
   "cell_type": "code",
   "execution_count": 77,
   "id": "baf11149",
   "metadata": {},
   "outputs": [
    {
     "name": "stdout",
     "output_type": "stream",
     "text": [
      "[[32 20 10]\n",
      " [29 25 20]\n",
      " [32 22 14]]\n",
      "              precision    recall  f1-score   support\n",
      "\n",
      "           0       0.34      0.52      0.41        62\n",
      "           1       0.37      0.34      0.35        74\n",
      "           2       0.32      0.21      0.25        68\n",
      "\n",
      "    accuracy                           0.35       204\n",
      "   macro avg       0.35      0.35      0.34       204\n",
      "weighted avg       0.35      0.35      0.34       204\n",
      "\n",
      "0.3480392156862745\n"
     ]
    }
   ],
   "source": [
    "from sklearn.metrics import classification_report, confusion_matrix, accuracy_score\n",
    "\n",
    "print(confusion_matrix(y_test,y_pred))\n",
    "print(classification_report(y_test,y_pred))\n",
    "print(accuracy_score(y_test, y_pred))"
   ]
  },
  {
   "cell_type": "code",
   "execution_count": 78,
   "id": "306fb697",
   "metadata": {
    "pycharm": {
     "name": "#%%\n"
    }
   },
   "outputs": [],
   "source": [
    "filename = 'random_forest_model.sav'\n",
    "pickle.dump(regressor, open(filename, 'wb'))\n"
   ]
  },
  {
   "cell_type": "code",
   "execution_count": 79,
   "outputs": [],
   "source": [
    "pickle.dump(sc, open('scaler.pkl','wb'))"
   ],
   "metadata": {
    "collapsed": false,
    "pycharm": {
     "name": "#%%\n"
    }
   }
  },
  {
   "cell_type": "code",
   "execution_count": null,
   "outputs": [],
   "source": [],
   "metadata": {
    "collapsed": false,
    "pycharm": {
     "name": "#%%\n"
    }
   }
  }
 ],
 "metadata": {
  "kernelspec": {
   "name": "pycharm-c4f34c4a",
   "language": "python",
   "display_name": "PyCharm (assss)"
  },
  "language_info": {
   "codemirror_mode": {
    "name": "ipython",
    "version": 3
   },
   "file_extension": ".py",
   "mimetype": "text/x-python",
   "name": "python",
   "nbconvert_exporter": "python",
   "pygments_lexer": "ipython3",
   "version": "3.9.7"
  }
 },
 "nbformat": 4,
 "nbformat_minor": 5
}